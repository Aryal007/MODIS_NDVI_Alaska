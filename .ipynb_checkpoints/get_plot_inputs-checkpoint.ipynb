{
 "cells": [
  {
   "cell_type": "code",
   "execution_count": 1,
   "id": "fade4f33",
   "metadata": {},
   "outputs": [],
   "source": [
    "from pathlib import Path\n",
    "import glob, os\n",
    "import pandas as pd\n",
    "import numpy as np\n",
    "from datetime import datetime\n",
    "import matplotlib.pyplot as plt\n",
    "import pdb"
   ]
  },
  {
   "cell_type": "code",
   "execution_count": 2,
   "id": "82674288",
   "metadata": {},
   "outputs": [],
   "source": [
    "DATA_DIR = Path(\"/datadrive/MODIS_NDVI_Alaska/modis/tiffs_numpy/\")\n",
    "SHAPEFILE_DIR = Path(\"/datadrive/MODIS_NDVI_Alaska/modis/shps/ROI_small\")\n",
    "OUT_DIR = Path(\"/datadrive/MODIS_NDVI_Alaska/modis/final_numpy/\")\n",
    "\n",
    "ANWR_DIR = DATA_DIR / \"anwr\"\n",
    "IVOTUK_NORTH_DIR = DATA_DIR / \"ivotuk_north\"\n",
    "IVOTUK_SOUTH_DIR = DATA_DIR / \"ivotuk_south\"\n",
    "PRUDHOEBAY_DIR = DATA_DIR / \"prudhoebay\""
   ]
  },
  {
   "cell_type": "code",
   "execution_count": 3,
   "id": "37a7955e",
   "metadata": {},
   "outputs": [
    {
     "name": "stdout",
     "output_type": "stream",
     "text": [
      "Woring on file 2000_02_18\n"
     ]
    },
    {
     "ename": "NameError",
     "evalue": "name 'df' is not defined",
     "output_type": "error",
     "traceback": [
      "\u001b[0;31m---------------------------------------------------------------------------\u001b[0m",
      "\u001b[0;31mNameError\u001b[0m                                 Traceback (most recent call last)",
      "\u001b[0;32m<ipython-input-3-e8b3916ec60f>\u001b[0m in \u001b[0;36m<module>\u001b[0;34m\u001b[0m\n\u001b[1;32m     25\u001b[0m         \u001b[0;32mtry\u001b[0m\u001b[0;34m:\u001b[0m\u001b[0;34m\u001b[0m\u001b[0;34m\u001b[0m\u001b[0m\n\u001b[0;32m---> 26\u001b[0;31m             \u001b[0myearly_arr\u001b[0m \u001b[0;34m=\u001b[0m \u001b[0mnp\u001b[0m\u001b[0;34m.\u001b[0m\u001b[0mvstack\u001b[0m\u001b[0;34m(\u001b[0m\u001b[0;34m(\u001b[0m\u001b[0myearly_arr\u001b[0m\u001b[0;34m,\u001b[0m \u001b[0marr\u001b[0m\u001b[0;34m)\u001b[0m\u001b[0;34m)\u001b[0m\u001b[0;34m\u001b[0m\u001b[0;34m\u001b[0m\u001b[0m\n\u001b[0m\u001b[1;32m     27\u001b[0m         \u001b[0;32mexcept\u001b[0m\u001b[0;34m:\u001b[0m\u001b[0;34m\u001b[0m\u001b[0;34m\u001b[0m\u001b[0m\n",
      "\u001b[0;31mNameError\u001b[0m: name 'yearly_arr' is not defined",
      "\nDuring handling of the above exception, another exception occurred:\n",
      "\u001b[0;31mNameError\u001b[0m                                 Traceback (most recent call last)",
      "\u001b[0;32m<ipython-input-3-e8b3916ec60f>\u001b[0m in \u001b[0;36m<module>\u001b[0;34m\u001b[0m\n\u001b[1;32m     28\u001b[0m             \u001b[0myearly_arr\u001b[0m \u001b[0;34m=\u001b[0m \u001b[0marr\u001b[0m\u001b[0;34m\u001b[0m\u001b[0;34m\u001b[0m\u001b[0m\n\u001b[1;32m     29\u001b[0m             \u001b[0marr\u001b[0m \u001b[0;34m=\u001b[0m \u001b[0mnp\u001b[0m\u001b[0;34m.\u001b[0m\u001b[0mmax\u001b[0m\u001b[0;34m(\u001b[0m\u001b[0myearly_arr\u001b[0m\u001b[0;34m,\u001b[0m\u001b[0maxis\u001b[0m\u001b[0;34m=\u001b[0m\u001b[0;36m0\u001b[0m\u001b[0;34m)\u001b[0m\u001b[0;34m\u001b[0m\u001b[0;34m\u001b[0m\u001b[0m\n\u001b[0;32m---> 30\u001b[0;31m             \u001b[0mdf\u001b[0m\u001b[0;34m[\u001b[0m\u001b[0myear\u001b[0m\u001b[0;34m]\u001b[0m \u001b[0;34m=\u001b[0m \u001b[0marr\u001b[0m\u001b[0;34m\u001b[0m\u001b[0;34m\u001b[0m\u001b[0m\n\u001b[0m\u001b[1;32m     31\u001b[0m \u001b[0;34m\u001b[0m\u001b[0m\n\u001b[1;32m     32\u001b[0m     \u001b[0mdropped_df\u001b[0m \u001b[0;34m=\u001b[0m \u001b[0mdf\u001b[0m\u001b[0;34m.\u001b[0m\u001b[0mdropna\u001b[0m\u001b[0;34m(\u001b[0m\u001b[0maxis\u001b[0m\u001b[0;34m=\u001b[0m\u001b[0;36m0\u001b[0m\u001b[0;34m,\u001b[0m \u001b[0mhow\u001b[0m\u001b[0;34m=\u001b[0m\u001b[0;34m'any'\u001b[0m\u001b[0;34m,\u001b[0m \u001b[0minplace\u001b[0m\u001b[0;34m=\u001b[0m\u001b[0;32mFalse\u001b[0m\u001b[0;34m)\u001b[0m\u001b[0;34m\u001b[0m\u001b[0;34m\u001b[0m\u001b[0m\n",
      "\u001b[0;31mNameError\u001b[0m: name 'df' is not defined"
     ]
    }
   ],
   "source": [
    "#dirs = [\"anwr\", \"ivotuk_north\", \"ivotuk_south\", \"prudhoebay\"]\n",
    "dirs = [\"prudhoebay\", \"ivotuk_south\"]\n",
    "year = \"2000\"\n",
    "for region in dirs:\n",
    "    _dir = DATA_DIR / region\n",
    "    files = glob.glob(str(_dir / \"*\"))\n",
    "    for fname in files:\n",
    "        cname = os.path.basename(fname).split(\".\")[0]\n",
    "        print(f\"Woring on file {cname}\")\n",
    "        new_year = cname.split(\"_\")[0]\n",
    "        if new_year != year:\n",
    "            arr = np.max(yearly_arr,axis=0)\n",
    "            del(yearly_arr)\n",
    "            try:\n",
    "                df[year] = arr\n",
    "            except:\n",
    "                df = pd.DataFrame({\n",
    "                                \"location\": np.arange(len(arr)),\n",
    "                                 year: arr})\n",
    "            year = new_year\n",
    "        arr = np.float32(np.load(fname))\n",
    "        arr = (arr + 2000) / 12000\n",
    "        arr[arr == 0] = np.nan\n",
    "        arr = arr.flatten()\n",
    "        try:\n",
    "            yearly_arr = np.vstack((yearly_arr, arr))\n",
    "        except:\n",
    "            yearly_arr = arr\n",
    "    arr = np.max(yearly_arr,axis=0)\n",
    "    df[year] = arr\n",
    "    \n",
    "    dropped_df = df.dropna(axis=0, how='any', inplace=False)\n",
    "    dropped_df = dropped_df.drop(['location', '2000','2021'], axis=1)\n",
    "    dropped_df.reset_index(drop=True, inplace=True)\n",
    "    \n",
    "    n_years = 20\n",
    "    plot_arr = np.zeros((len(dropped_df)*n_years, 2))\n",
    "    for (index, rows) in dropped_df.iterrows():\n",
    "        ndvi = np.asarray(rows)\n",
    "        slope_ndvi = np.gradient(ndvi)\n",
    "        plot_arr[index*n_years:index*n_years+n_years, 0] = ndvi\n",
    "        plot_arr[index*n_years:index*n_years+n_years, 1] = slope_ndvi\n",
    "        \n",
    "    savename = OUT_DIR / region\n",
    "    np.save(savename, plot_arr)"
   ]
  },
  {
   "cell_type": "code",
   "execution_count": null,
   "id": "aa22598f",
   "metadata": {},
   "outputs": [],
   "source": [
    "df.columns"
   ]
  },
  {
   "cell_type": "code",
   "execution_count": null,
   "id": "0944ce94",
   "metadata": {},
   "outputs": [],
   "source": [
    "df.head(5)"
   ]
  },
  {
   "cell_type": "code",
   "execution_count": null,
   "id": "2e48310f",
   "metadata": {},
   "outputs": [],
   "source": [
    "dropped_df = df.dropna(axis=0, how='any', inplace=False)\n",
    "dropped_df = dropped_df.drop(['location', '2000','2021'], axis=1)"
   ]
  },
  {
   "cell_type": "code",
   "execution_count": null,
   "id": "ec9f8e87",
   "metadata": {},
   "outputs": [],
   "source": [
    "dropped_df.reset_index(drop=True, inplace=True)\n",
    "dropped_df.head()"
   ]
  },
  {
   "cell_type": "code",
   "execution_count": null,
   "id": "3d467e42",
   "metadata": {},
   "outputs": [],
   "source": [
    "n_years = 20\n",
    "plot_arr = np.zeros((len(dropped_df)*n_years, 2))\n",
    "np.gradient(list(ndvi)[1:])\n",
    "for (index, rows) in dropped_df.iterrows():\n",
    "    ndvi = np.asarray(rows)\n",
    "    slope_ndvi = np.gradient(ndvi)\n",
    "    plot_arr[index*n_years:index*n_years+n_years, 0] = ndvi\n",
    "    plot_arr[index*n_years:index*n_years+n_years, 1] = slope_ndvi"
   ]
  },
  {
   "cell_type": "code",
   "execution_count": null,
   "id": "a575ab8f",
   "metadata": {},
   "outputs": [],
   "source": [
    "#plt.scatter(plot_arr[:,0], plot_arr[:,1])"
   ]
  },
  {
   "cell_type": "code",
   "execution_count": null,
   "id": "253835de",
   "metadata": {},
   "outputs": [],
   "source": [
    "OUT_DIR = Path(\"/datadrive/MODIS_NDVI_Alaska/modis/final_numpy/\")\n",
    "savename = OUT_DIR / region\n",
    "np.save(savename, plot_arr)"
   ]
  },
  {
   "cell_type": "code",
   "execution_count": null,
   "id": "f613acb6",
   "metadata": {},
   "outputs": [],
   "source": []
  }
 ],
 "metadata": {
  "kernelspec": {
   "display_name": "Python 3",
   "language": "python",
   "name": "python3"
  },
  "language_info": {
   "codemirror_mode": {
    "name": "ipython",
    "version": 3
   },
   "file_extension": ".py",
   "mimetype": "text/x-python",
   "name": "python",
   "nbconvert_exporter": "python",
   "pygments_lexer": "ipython3",
   "version": "3.6.13"
  }
 },
 "nbformat": 4,
 "nbformat_minor": 5
}
