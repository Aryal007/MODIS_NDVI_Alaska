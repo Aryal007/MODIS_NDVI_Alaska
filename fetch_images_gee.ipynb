{
 "cells": [
  {
   "cell_type": "code",
   "execution_count": 1,
   "metadata": {},
   "outputs": [],
   "source": [
    "import ee"
   ]
  },
  {
   "cell_type": "code",
   "execution_count": 2,
   "metadata": {},
   "outputs": [
    {
     "data": {
      "text/html": [
       "<p>To authorize access needed by Earth Engine, open the following\n",
       "        URL in a web browser and follow the instructions:</p>\n",
       "        <p><a href=https://accounts.google.com/o/oauth2/auth?client_id=517222506229-vsmmajv00ul0bs7p89v5m89qs8eb9359.apps.googleusercontent.com&scope=https%3A%2F%2Fwww.googleapis.com%2Fauth%2Fearthengine+https%3A%2F%2Fwww.googleapis.com%2Fauth%2Fdevstorage.full_control&redirect_uri=urn%3Aietf%3Awg%3Aoauth%3A2.0%3Aoob&response_type=code&code_challenge=_a0IOdYb6i3d_vAmYYXo8NfPBfLp_4UOvAw45LNEFbc&code_challenge_method=S256>https://accounts.google.com/o/oauth2/auth?client_id=517222506229-vsmmajv00ul0bs7p89v5m89qs8eb9359.apps.googleusercontent.com&scope=https%3A%2F%2Fwww.googleapis.com%2Fauth%2Fearthengine+https%3A%2F%2Fwww.googleapis.com%2Fauth%2Fdevstorage.full_control&redirect_uri=urn%3Aietf%3Awg%3Aoauth%3A2.0%3Aoob&response_type=code&code_challenge=_a0IOdYb6i3d_vAmYYXo8NfPBfLp_4UOvAw45LNEFbc&code_challenge_method=S256</a></p>\n",
       "        <p>The authorization workflow will generate a code, which you\n",
       "        should paste in the box below</p>\n",
       "        "
      ],
      "text/plain": [
       "<IPython.core.display.HTML object>"
      ]
     },
     "metadata": {},
     "output_type": "display_data"
    },
    {
     "name": "stdout",
     "output_type": "stream",
     "text": [
      "Enter verification code: 4/1AX4XfWiAUiCYR3M4WD01NG-8vc3GmAIU-2iRoQbzkqZuySbJnJ2ZZ_HHLMs\n",
      "\n",
      "Successfully saved authorization token.\n"
     ]
    }
   ],
   "source": [
    "ee.Authenticate()"
   ]
  },
  {
   "cell_type": "code",
   "execution_count": 2,
   "metadata": {},
   "outputs": [],
   "source": [
    "ee.Initialize()"
   ]
  },
  {
   "cell_type": "code",
   "execution_count": 3,
   "metadata": {},
   "outputs": [],
   "source": [
    "prudhoebay = ee.FeatureCollection(\"users/bibekaryal7/ABoVE_small/prudhoebay\")\n",
    "ivotuk_north = ee.FeatureCollection(\"users/bibekaryal7/ABoVE_small/ivotuk_north\")\n",
    "ivotuk_south = ee.FeatureCollection(\"users/bibekaryal7/ABoVE_small/ivotuk_south\")\n",
    "anwr = ee.FeatureCollection(\"users/bibekaryal7/ABoVE_small/anwr\")"
   ]
  },
  {
   "cell_type": "code",
   "execution_count": 4,
   "metadata": {},
   "outputs": [],
   "source": [
    "regionList = [prudhoebay, ivotuk_north, ivotuk_south, anwr]\n",
    "nameList = ['prudhoebay', 'ivotuk_north', 'ivotuk_south', 'anwr']\n",
    "crs_list = ['EPSG:26905', 'EPSG:26904', 'EPSG:26904', 'EPSG:26906']"
   ]
  },
  {
   "cell_type": "code",
   "execution_count": 5,
   "metadata": {},
   "outputs": [],
   "source": [
    "modisNDVIlist = ee.ImageCollection('MODIS/006/MOD13A1').filter(ee.Filter.date('2000-02-18', '2021-07-29')).select(\"NDVI\")"
   ]
  },
  {
   "cell_type": "code",
   "execution_count": 6,
   "metadata": {},
   "outputs": [],
   "source": [
    "n_images = modisNDVIlist.size().getInfo()\n",
    "modisNDVIlist = modisNDVIlist.toList(n_images)"
   ]
  },
  {
   "cell_type": "code",
   "execution_count": 7,
   "metadata": {},
   "outputs": [],
   "source": [
    "for i in range(n_images): #Iterate through all images\n",
    "  img = ee.Image(modisNDVIlist.get(i)) #get current image\n",
    "  for j in range(len(regionList)): #Iterate through all regions\n",
    "    clipped_image = img.clip(regionList[j]); #Clip image by region to reduce storage space\n",
    "    clipped_image = clipped_image.reproject(crs_list[j]);\n",
    "    img_name = clipped_image.get('system:index');\n",
    "    img_name = img_name.getInfo();\n",
    "    task = ee.batch.Export.image.toDrive(\n",
    "        image=clipped_image,\n",
    "        region=regionList[j].geometry(),\n",
    "        description=img_name,\n",
    "        folder=nameList[j],\n",
    "        scale=30,\n",
    "        maxPixels=3101797300\n",
    "    )\n",
    "    task.start()"
   ]
  }
 ],
 "metadata": {
  "kernelspec": {
   "display_name": "Python 3",
   "language": "python",
   "name": "python3"
  },
  "language_info": {
   "codemirror_mode": {
    "name": "ipython",
    "version": 3
   },
   "file_extension": ".py",
   "mimetype": "text/x-python",
   "name": "python",
   "nbconvert_exporter": "python",
   "pygments_lexer": "ipython3",
   "version": "3.8.5"
  }
 },
 "nbformat": 4,
 "nbformat_minor": 4
}
